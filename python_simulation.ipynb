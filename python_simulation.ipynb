{
 "cells": [
  {
   "cell_type": "code",
   "execution_count": 7,
   "metadata": {},
   "outputs": [],
   "source": [
    "# Import libraries / modules\n",
    "import numpy as np\n",
    "from itertools import product\n",
    "from collections import Counter, OrderedDict\n",
    "from matplotlib import pyplot as plt\n",
    "import sparse\n",
    "from fractions import Fraction\n",
    "import contfrac\n",
    "import random as rm"
   ]
  },
  {
   "cell_type": "code",
   "execution_count": 8,
   "metadata": {},
   "outputs": [],
   "source": [
    "class QuantumCircuit:\n",
    "    \"\"\"\n",
    "    A class used to simulate a quantum computer\n",
    "    \n",
    "    ...\n",
    "    \n",
    "    Args:\n",
    "    ----------\n",
    "    qubits : int\n",
    "        Optional -> Default is 3\n",
    "        DESCRIPTION - The number of qubits in the quantum circuit\n",
    "    psi : list\n",
    "        Optional -> Default is []\n",
    "        DESCRIPTION - The quantum register\n",
    "    C : int\n",
    "        Optional -> Default is 0\n",
    "        DESCRIPTION - Composite integer to be factorised\n",
    "    a : int\n",
    "        Optional -> Default is 0\n",
    "        DESCRIPTION - A random integer used for Shor's algorithm\n",
    "    L : int\n",
    "        Optional -> Default is 0\n",
    "        DESCRIPTION - Number of qubits in the x-register of Shor's algorithm\n",
    "    M : int\n",
    "        Optional -> Default is 0\n",
    "        DESCRIPTION - Number of qubits in the f-register of Shor's algorithm\n",
    "    \n",
    "    Attributes:\n",
    "    ----------\n",
    "    qubits : int\n",
    "        Optional -> Default is 3\n",
    "        DESCRIPTION - The number of qubits in the quantum circuit\n",
    "    N_qubits : int\n",
    "        DESCRIPTION - The number of qubits in the quantum circuit\n",
    "    psi : list\n",
    "        Optional -> Default is []\n",
    "        DESCRIPTION - The quantum register\n",
    "    basis_states : list\n",
    "        DESCRIPTION - A list of all possible basis states of the n-qubit register\n",
    "    C : int\n",
    "        Optional -> Default is 0\n",
    "        DESCRIPTION - Composite integer to be factorised\n",
    "    a : int\n",
    "        Optional -> Default is 0\n",
    "        DESCRIPTION - A random integer used for Shor's algorithm\n",
    "    L : int\n",
    "        Optional -> Default is 0\n",
    "        DESCRIPTION - Number of qubits in the x-register of Shor's algorithm\n",
    "    M : int\n",
    "        Optional -> Default is 0\n",
    "        DESCRIPTION - Number of qubits in the f-register of Shor's algorithm\n",
    "    \n",
    "    Methods:\n",
    "    ----------\n",
    "    getQubits():\n",
    "        DESCRIPTION - Get the qubits of the circuit\n",
    "    setQubits(new_qubits):\n",
    "        DESCRIPTION - Set the value of the qubits\n",
    "    register():\n",
    "        DESCRIPTION - Create quantum register for n qubits\n",
    "    getBasisStates():\n",
    "        DESCRIPTION - Calculate and store all possible basis states in a list\n",
    "    measure():\n",
    "        DESCRIPTION - Take a single measurement\n",
    "    takeMeasurements(measurements=100):\n",
    "        DESCRIPTION - Take many measurements\n",
    "    hadamardGate(qubit):\n",
    "        DESCRIPTION - Construct a Hadamard gate to operate on a specified qubit\n",
    "    applyHadamardGate(qubits):\n",
    "        DESCRIPTION - Apply a Hadamard gate to the specified qubits\n",
    "    phaseShiftGate(qubit, theta):\n",
    "        DESCRIPTION - Construct a phase shift gate to operate on a specific qubit with angle theta\n",
    "    applyPhaseShiftGate(qubits, theta):\n",
    "        DESCRIPTION - Apply a phase shift gate to the specified qubits at angle theta\n",
    "    notGate(qubit):\n",
    "        DESCRIPTION - Construct a not gate to operate on a specified qubit\n",
    "    applyNotGate(qubit):\n",
    "        DESCRIPTION - Apply not gate to the specified qubit\n",
    "    rotationGate(qubit, theta):\n",
    "        DESCRIPTION - Construct a rotation gate to act on a specified qubit at angle theta\n",
    "    applyRotationGate(qubits, theta):\n",
    "        DESCRIPTION - Apply a rotation gate to the specified qubits at angle theta\n",
    "    cnotGate(control, target):\n",
    "        DESCRIPTION - Construct a controlled not gate\n",
    "    applyCnotGate(control, target):\n",
    "        DESCRIPTION - Apply a controlled not gate\n",
    "    ctrlPhaseShiftGate(control, target, theta):\n",
    "        DESCRIPTION - Construct a controlled phase shift gate\n",
    "    applyCtrlPhaseShiftGate(control, target, theta):\n",
    "        DESCRIPTION - Apply a controlled phase shift gate\n",
    "    oracle(question):\n",
    "        DESCRIPTION - Construct an oracle matrix for a specified question\n",
    "    applyOracle(question):\n",
    "        DESCRIPTION - Apply an oracle matrix for a specified question\n",
    "    JOperator():\n",
    "        DESCRIPTION - Construct J operator matrix\n",
    "    applyJOperator():\n",
    "        DESCRIPTION - Apply J operator matrix\n",
    "    groversAlgo(question):\n",
    "        DESCRIPTION - Construct the circuit for Grover's algorithm based on a specific question\n",
    "    applyGroversAlgo(question):\n",
    "        DESCRIPTION - Apply Grover's algorithm and take measurements\n",
    "    checkPowers(C):\n",
    "        DESCRIPTION - Check if C is a power of a smaller integer\n",
    "    aModCGate(control, a_n):\n",
    "        DESCRIPTION - Create a controlled gate that will multiply the target qubits by a^n(mod C)\n",
    "    IQFT():\n",
    "        DESCRIPTION - Apply an Inverse Quantum Fourier Transform to quantum circuit\n",
    "    periodFinding(C, L, M, a):\n",
    "        DESCRIPTION - Determine possible period values\n",
    "    shorsAlgo(C):\n",
    "        DESCRIPTION - Implement Shor's algorithm\n",
    "    merminsDevice():\n",
    "        DESCRIPTION - Simulate Mermims quantum device\n",
    "    \"\"\"\n",
    "    \n",
    "    def __init__(self, qubits=3, psi=[], C=0, a=0, L=0, M=0):\n",
    "        \"\"\"\n",
    "        Parameters\n",
    "        ----------\n",
    "        qubits : TYPE, optional - Integer\n",
    "            DESCRIPTION - The default is 3. Number of qubits.\n",
    "        psi : TYPE, optional - List\n",
    "            DESCRIPTION - The default is []. Quantum state column vector.\n",
    "        C : TYPE, optional - Integer\n",
    "            DESCRIPTION - The default is 0. Composite number\n",
    "        a : TYPE, optional - Integer\n",
    "            DESCRIPTION - The default is 0. Random number between 2 and C\n",
    "        L : TYPE, optional - Integer\n",
    "            DESCRIPTION - The default is 0. Number of qubits in the x-register\n",
    "        M : TYPE, optional - Integer\n",
    "            DESCRIPTION - The default is 0. Number of qubits in the f-register\n",
    "        Returns\n",
    "        -------\n",
    "        None.\n",
    "        \"\"\"\n",
    "        # Initialise qubits list of orientations\n",
    "        self.qubits = [0] * qubits\n",
    "        # Determine the number of qubits\n",
    "        self.N_qubits = qubits\n",
    "        # If psi is not provided, create psi using qubit register\n",
    "        if len(psi) == 0:\n",
    "            self.psi = self.register()\n",
    "        # Else use psi provided\n",
    "        else:\n",
    "            self.psi = psi\n",
    "        # Store basis states as an instance variable\n",
    "        self.basis_states = self.getBasisStates()\n",
    "        # Assign global variables with default values of zero to be updated in Shor's algorithm\n",
    "        # Composite integer\n",
    "        self.C = C\n",
    "        # Random number\n",
    "        self.a = a\n",
    "        # Number of qubits in x register\n",
    "        self.L = L\n",
    "        # Number of qubits in f register\n",
    "        self.M = M\n",
    "    \n",
    "    def __str__(self):\n",
    "        \"\"\"\n",
    "        Format the basis state of the qubits as a string\n",
    "        \n",
    "        ...\n",
    "        \n",
    "        Returns\n",
    "        -------\n",
    "        str\n",
    "            DESCRIPTION - Basis state of qubits\n",
    "        \"\"\"\n",
    "        # Return measurement value as a string\n",
    "        return f'|{\"\".join([str(i) for i in self.qubits])}>'\n",
    "    \n",
    "    def getQubits(self):\n",
    "        \"\"\"\n",
    "        Get the qubits of the circuit\n",
    "        ...\n",
    "        \n",
    "        Returns\n",
    "        -------\n",
    "        TYPE - Object\n",
    "            DESCRIPTION - New instance of QuantumCircuit class\n",
    "        \"\"\"\n",
    "        return self.qubits\n",
    "    \n",
    "    def setQubits(self, new_qubits):\n",
    "        \"\"\"\n",
    "        Replace the value of the current qubits with new qubits\n",
    "        \n",
    "        ...\n",
    "        \n",
    "        Parameters\n",
    "        ----------\n",
    "        new_qubits : TYPE: Int\n",
    "            DESCRIPTION: New number of qubits\n",
    "\n",
    "        Returns\n",
    "        -------\n",
    "        TYPE - Object\n",
    "            DESCRIPTION - New instance of QuantumCircuit class\n",
    "        \"\"\"\n",
    "        return QuantumCircuit(qubits=new_qubits)\n",
    "    \n",
    "    def register(self):\n",
    "        \"\"\"\n",
    "        Create the quantum register for n qubits\n",
    "        \n",
    "        ...\n",
    "        \n",
    "        Returns\n",
    "        -------\n",
    "        psi : TYPE: 2D Numpy Array\n",
    "            DESCRIPTION: Column vector storing quantum state of N-qubits\n",
    "        \"\"\"\n",
    "        # Initialise empty list\n",
    "        qubits_list = []\n",
    "        # Define qubits states as sparse matrices\n",
    "        q_up = sparse.COO.from_numpy(np.array([[1+0j],[0+0j]]))    # Spin up - |0>\n",
    "        q_down = sparse.COO.from_numpy(np.array([[0+0j],[1+0j]]))  # Spin down - |1>\n",
    "        # Create list of qubits states\n",
    "        for qubit in self.qubits:\n",
    "            if qubit == 0:\n",
    "                qubits_list.append(q_up)\n",
    "            else:\n",
    "                qubits_list.append(q_down)\n",
    "        # Initialise psi to equal the first qubit orientation\n",
    "        psi = qubits_list[0]\n",
    "        # Get combined Kronecker product of all qubits\n",
    "        for i, qubit in enumerate(qubits_list):\n",
    "            # Skip the first qubit (already accounted for above)\n",
    "            if i < 1:\n",
    "                continue\n",
    "            psi = np.kron(psi, qubit)\n",
    "        # Return as a sparse matrix\n",
    "        return psi\n",
    "    \n",
    "    def getBasisStates(self):\n",
    "        \"\"\"\n",
    "        Calculate and store all possible basis states in a list\n",
    "        \n",
    "        ...\n",
    "        \n",
    "        Returns\n",
    "        -------\n",
    "        TYPE: 2D List\n",
    "            DESCRIPTION: List of all possible N qubit configurations\n",
    "        \"\"\"\n",
    "        # Determine all possible basis states\n",
    "        return list(product([0, 1], repeat=self.N_qubits))\n",
    "    \n",
    "    def measure(self):\n",
    "        \"\"\"\n",
    "        Take a single measurement of the quantum register\n",
    "        \n",
    "        ...\n",
    "        \n",
    "        Returns\n",
    "        -------\n",
    "        TYPE: String\n",
    "            DESCRIPTION: Qubit measurement\n",
    "        \"\"\"\n",
    "        # Determine all possible basis states\n",
    "        basis_states = self.basis_states\n",
    "        # Generate random number between 0 and 1\n",
    "        r = np.random.rand()\n",
    "        # Reduce psi to 1-D list\n",
    "        psi = self.psi.flatten()\n",
    "        # Initialize q to zero\n",
    "        q = 0\n",
    "        # Iterate through each probability in psi\n",
    "        for i, amp in enumerate(psi):\n",
    "            # probability = |amplitude|**2\n",
    "            prob = amp*amp.conjugate()\n",
    "            # q = q + probability\n",
    "            q += prob\n",
    "            # If the probability is greater than the random number\n",
    "            if r < q:\n",
    "                # Take measurement\n",
    "                return f'|{\"\".join(str(b) for b in basis_states[i])}>'\n",
    "    \n",
    "    def takeMeasurements(self, measurements=100):\n",
    "        \"\"\"\n",
    "        Take n measurements of the quantum register\n",
    "        \n",
    "        ...\n",
    "        \n",
    "        Parameters\n",
    "        ----------\n",
    "        measurements : TYPE: Int - Optional\n",
    "            DESCRIPTION: Default is 100.\n",
    "                         Number of measurements to take\n",
    "        Returns\n",
    "        -------\n",
    "        TYPE: String\n",
    "            DESCRIPTION: Qubit measurement\n",
    "        \"\"\"\n",
    "        # Count occurances of each measurement\n",
    "        measurement_counts = Counter(self.measure() for i in range(measurements))\n",
    "        # Remove the key and values of None if it exists in the measurement_counts dictionary\n",
    "        if measurement_counts[None]:\n",
    "            del measurement_counts[None]\n",
    "        # Get most common measurement outcome from dictionary\n",
    "        measurement = max(zip(measurement_counts.values(), measurement_counts.keys()))[1]\n",
    "        # Take measurement and remove non-numerical characters\n",
    "        qubits = measurement.replace('|', '').replace('>', '')\n",
    "        # Update qubits list with new orientation values\n",
    "        self.qubits = [int(c) for c in qubits]\n",
    "        # Return result\n",
    "        return measurement_counts\n",
    "    \n",
    "    def hadamardGate(self, qubit):\n",
    "        \"\"\"\n",
    "        Construct a Hadamard gate to operate on a specified qubit\n",
    "        \n",
    "        ...\n",
    "        \n",
    "        Parameters\n",
    "        ----------\n",
    "        qubit : TYPE: Int\n",
    "            DESCRIPTION: Qubit to apply gate\n",
    "        \n",
    "        Returns\n",
    "        -------\n",
    "        H_gate : TYPE: 2D Numpy Array\n",
    "            DESCRIPTION: A Hadamard gate matrix based on the number of qubits and which qubit\n",
    "        \"\"\"\n",
    "        # Sparse Hadamard matrix\n",
    "        H = sparse.COO.from_numpy(np.array([[1+0j, 1+0j],\n",
    "                                            [1+0j, -1+0j]]) * 1/np.sqrt(2))\n",
    "        # Sparse Identity matrix\n",
    "        I = sparse.COO.from_numpy(np.identity(2, dtype = complex))\n",
    "        # Append an identity matric to the list for every qubit in the circuit\n",
    "        matrices = [I for i in range(self.N_qubits)]\n",
    "        # Place Hadamard gate at position of target qubit\n",
    "        matrices[qubit-1] = H\n",
    "        # Initialise Hadamard gate to be the first matrix in matrices list\n",
    "        H_gate = matrices[0]\n",
    "        # Calculate the total Kronecker product of each matrix in the list\n",
    "        for m in matrices[1:]:\n",
    "            H_gate = np.kron(H_gate, m)\n",
    "        # Return the constructed gate as a sparse matrix\n",
    "        return H_gate\n",
    "    \n",
    "    def applyHadamardGate(self, qubits):\n",
    "        \"\"\"\n",
    "        Apply a Hadamard gate to the specified qubits\n",
    "        \n",
    "        ...\n",
    "        \n",
    "        Parameters\n",
    "        ----------\n",
    "        qubits : TYPE: List\n",
    "            DESCRIPTION: Qubits to apply gate\n",
    "\n",
    "        Returns\n",
    "        -------\n",
    "        TYPE - Object\n",
    "            DESCRIPTION - Instance of QuantumCircuit class\n",
    "        \"\"\"\n",
    "        # Iterate through each qubit in the list of qubits\n",
    "        for qubit in qubits:\n",
    "            # Construct a Hadamard gate to operate on the current qubit\n",
    "            H = self.hadamardGate(qubit)\n",
    "            # Calculate tensor product of the hadamard gate and psi\n",
    "            self.psi = np.tensordot(H, self.psi, axes=1)\n",
    "        # Return instance\n",
    "        return self\n",
    "    \n",
    "    def phaseShiftGate(self, qubit, theta):\n",
    "        \"\"\"\n",
    "        Construct a phase shift gate to operate on a specific qubit with angle theta\n",
    "        \n",
    "        ...\n",
    "        \n",
    "        Parameters\n",
    "        ----------\n",
    "        qubit : TYPE: Int\n",
    "            DESCRIPTION: Qubit to apply gate\n",
    "        theta : TYPE: Float\n",
    "            DESCRIPTION: Angle of phase shift\n",
    "\n",
    "        Returns\n",
    "        -------\n",
    "        Z_gate : TYPE: 2D Numpy Array\n",
    "            DESCRIPTION: A phase shift gate matrix based on the number of qubits and which qubit\n",
    "        \"\"\"\n",
    "        # Imaginary number\n",
    "        i = 0 + 1j\n",
    "        # Phase Shift matrix as a sparse matrix\n",
    "        Z = sparse.COO.from_numpy(np.array([[1+0j, 0+0j],\n",
    "                                             [0+0j, np.exp(i * theta)]]))\n",
    "        # Sparse Identity matrix\n",
    "        I = sparse.COO.from_numpy(np.identity(2, dtype = complex))\n",
    "        # Append an identity matric to the list for every qubit in the circuit\n",
    "        matrices = [I for i in range(self.N_qubits)]\n",
    "        # Place phase shift matrix at position of target qubit\n",
    "        matrices[qubit-1] = Z\n",
    "        # Initialise phase shift gate to be the first matrix in matrices list\n",
    "        Z_gate = matrices[0]\n",
    "        # Calculate the total Kronecker product of each matrix in the list\n",
    "        for m in matrices[1:]:\n",
    "            Z_gate = np.kron(Z_gate, m)\n",
    "        # Return the constructed gate as a sparse matrix\n",
    "        return Z_gate\n",
    "    \n",
    "    def applyPhaseShiftGate(self, qubits, theta):\n",
    "        \"\"\"\n",
    "        Apply a phase shift gate to the specified qubits at angle theta\n",
    "        \n",
    "        ...\n",
    "        \n",
    "        Parameters\n",
    "        ----------\n",
    "        qubits : TYPE: List\n",
    "            DESCRIPTION: Qubits to apply gate\n",
    "        theta : TYPE: Float\n",
    "            DESCRIPTION: Angle of phase shift\n",
    "\n",
    "        Returns\n",
    "        -------\n",
    "        TYPE - Object\n",
    "            DESCRIPTION - Instance of QuantumCircuit class\n",
    "        \"\"\"\n",
    "        # Iterate through each qubit in the list of qubits\n",
    "        for qubit in qubits:\n",
    "            # Construct a phase shift gate to operate on the current qubit\n",
    "            Z = self.phaseShiftGate(qubit, theta)\n",
    "            # Calculate tensor product of the phase shift gate and psi\n",
    "            self.psi = np.tensordot(Z, self.psi, axes=1)\n",
    "        # Return instance\n",
    "        return self\n",
    "    \n",
    "    def notGate(self, qubit):\n",
    "        \"\"\"\n",
    "        Construct a not gate to operate on a specified qubit\n",
    "        \n",
    "        ...\n",
    "        \n",
    "        Parameters\n",
    "        ----------\n",
    "        qubit : TYPE: Integer\n",
    "            DESCRIPTION: Qubit for gate to act on\n",
    "        Returns\n",
    "        -------\n",
    "        not_gate : TYPE - 2D Numpy array\n",
    "            DESCRIPTION - Not (Pauli-X) gate\n",
    "        \"\"\"\n",
    "        # Create an identity matrix\n",
    "        I = sparse.COO.from_numpy(np.identity(2, dtype=complex))\n",
    "        # NOT or Pauli-X matrix as sparse matrix\n",
    "        not_matrix = I[::-1]\n",
    "        # Append an identity matric to the list for every qubit in the circuit\n",
    "        matrices = [I for i in range(self.N_qubits)]\n",
    "        # Place not matrix at position of target qubit\n",
    "        matrices[qubit-1] = not_matrix\n",
    "        # Initialise not gate to be the first matrix in matrices list\n",
    "        not_gate = matrices[0]\n",
    "        # Calculate the total Kronecker product of each matrix in the list\n",
    "        for m in matrices[1:]:\n",
    "            not_gate = np.kron(not_gate, m)\n",
    "        # Return the constructed gate as a sparse matrix\n",
    "        return not_gate\n",
    "    \n",
    "    def applyNotGate(self, qubit):\n",
    "        \"\"\"\n",
    "        Apply not gate to the specified qubit\n",
    "        \n",
    "        ...\n",
    "        \n",
    "        Parameters\n",
    "        ----------\n",
    "        qubit : TYPE: Integer\n",
    "            DESCRIPTION: Qubit for gate to act on\n",
    "        Returns\n",
    "        -------\n",
    "        TYPE - Object\n",
    "            DESCRIPTION - Instance of QuantumCircuit class\n",
    "        \"\"\"\n",
    "        # Construct not matrix\n",
    "        not_gate = self.notGate(qubit)\n",
    "        # Calculate tensor product of the not gate and psi\n",
    "        self.psi = np.tensordot(not_gate, self.psi, axes=1)\n",
    "        # Return instance\n",
    "        return self\n",
    "    \n",
    "    def rotationGate(self, qubit, theta):\n",
    "        \"\"\"\n",
    "        Construct a rotation gate to act on a specified qubit at angle theta\n",
    "        \n",
    "        ...\n",
    "        \n",
    "        Parameters\n",
    "        ----------\n",
    "        qubit : TYPE: Int\n",
    "            DESCRIPTION: Qubit to apply gate\n",
    "        theta : TYPE: Float\n",
    "            DESCRIPTION: Angle of rotation\n",
    "        \n",
    "        Returns\n",
    "        -------\n",
    "        R_gate : TYPE: 2D Numpy Array\n",
    "            DESCRIPTION: A rotation gate matrix based on the number of qubits and which qubit\n",
    "        \"\"\"\n",
    "        # Sparse rotation matrix\n",
    "        R = sparse.COO.from_numpy(np.array([[np.cos(theta), np.sin(theta)],\n",
    "                                            [-np.sin(theta), np.cos(theta)]], dtype=complex))\n",
    "        # Sparse Identity matrix\n",
    "        I = sparse.COO.from_numpy(np.identity(2, dtype=complex))\n",
    "        # Append an identity matric to the list for every qubit in the circuit\n",
    "        matrices = [I for i in range(self.N_qubits)]\n",
    "        # Place rotation gate at position of target qubit\n",
    "        matrices[qubit-1] = R\n",
    "        # Initialise rotation gate to be the first matrix in matrices list\n",
    "        R_gate = matrices[0]\n",
    "        # Calculate the total Kronecker product of each matrix in the list\n",
    "        for m in matrices[1:]:\n",
    "            R_gate = np.kron(R_gate, m)\n",
    "        # Return the constructed gate as a sparse matrix\n",
    "        return R_gate\n",
    "    \n",
    "    def applyRotationGate(self, qubits, theta):\n",
    "        \"\"\"\n",
    "        Apply a rotation gate to the specified qubits at angle theta\n",
    "        \n",
    "        ...\n",
    "        \n",
    "        Parameters\n",
    "        ----------\n",
    "        qubits : TYPE: List\n",
    "            DESCRIPTION: Qubits to apply gate\n",
    "        theta : TYPE: Float\n",
    "            DESCRIPTION: Angle of rotation\n",
    "\n",
    "        Returns\n",
    "        -------\n",
    "        TYPE - Object\n",
    "            DESCRIPTION - Instance of QuantumCircuit class\n",
    "        \"\"\"\n",
    "        # Iterate through each qubit in the list of qubits\n",
    "        for qubit in qubits:\n",
    "            # Construct a rotation gate to operate on the current qubit\n",
    "            R = self.rotationGate(qubit, theta)\n",
    "            # Calculate tensor product of the rotation gate and psi\n",
    "            self.psi = np.tensordot(R, self.psi, axes=1)\n",
    "        # Return instance\n",
    "        return self\n",
    "    \n",
    "    def cnotGate(self, control, target):\n",
    "        \"\"\"\n",
    "        Construct a controlled not gate using specified control and target\n",
    "        \n",
    "        ...\n",
    "        \n",
    "        Parameters\n",
    "        ----------\n",
    "        control : TYPE: Int\n",
    "            DESCRIPTION: Qubit controlling whether or not to apply NOT to target\n",
    "        target : TYPE: Int\n",
    "            DESCRIPTION: Qubit that will be flipped if control is equal to 1\n",
    "\n",
    "        Returns\n",
    "        -------\n",
    "        cnot : TYPE: 2D Numpy Array\n",
    "            DESCRIPTION: CNOT Gate\n",
    "        \"\"\"\n",
    "        # Initiate number of qubits as a variable\n",
    "        N = self.N_qubits      \n",
    "        # Define coordinates and data for sparse matrix\n",
    "        coords = np.array([list(range(2**N)),\n",
    "                          list(range(2**N))])\n",
    "        data = np.array([1] * 2**N, dtype=complex)\n",
    "        # Get all possible base states\n",
    "        basis_states = self.basis_states\n",
    "        # Number of basis states\n",
    "        n_basis_states = 2**N\n",
    "        # Calculate the interval at which the control is 1 in the list of basis_states\n",
    "        period = int(n_basis_states/2**control)\n",
    "        # Iterate through each base state where the control is 1\n",
    "        # Skip over basis states where the control is 0\n",
    "        for i in range(period, n_basis_states, period*2):\n",
    "            for j in range(i, i+period):\n",
    "                # Store current base state in a variable\n",
    "                state = list(basis_states[j])\n",
    "                # Flip the target value. 1 -> 0, or 0 -> 1\n",
    "                state[target-1] = not state[target-1]\n",
    "                # Get the index of the updated state from the list of base states\n",
    "                new_index = basis_states.index(tuple(state))\n",
    "                # Update coordinates\n",
    "                coords[1][j] = new_index\n",
    "        # Create cnot gate as a sparse matrix and return\n",
    "        cnot = sparse.COO(coords, data, shape=(2**N, 2**N))\n",
    "        return cnot\n",
    "    \n",
    "    def applyCnotGate(self, control, target):\n",
    "        \"\"\"\n",
    "        Apply a controlled not gate using the specified control and target qubits\n",
    "        \n",
    "        ...\n",
    "        \n",
    "        Parameters\n",
    "        ----------\n",
    "        control : TYPE: Int\n",
    "            DESCRIPTION: Qubit controlling whether or not to apply NOT to target\n",
    "        target : TYPE: Int\n",
    "            DESCRIPTION: Qubit that will be flipped if control is equal to 1\n",
    "        Returns\n",
    "        -------\n",
    "        TYPE - Object\n",
    "            DESCRIPTION - Instance of QuantumCircuit class\n",
    "        \"\"\"\n",
    "        # Construct CNOT matrix\n",
    "        cnot = self.cnotGate(control, target)\n",
    "        # Calculate tensor product of the CNOT gate and psi\n",
    "        self.psi = np.tensordot(cnot, self.psi, axes=1)\n",
    "        # Return instance\n",
    "        return self\n",
    "    \n",
    "    def ctrlPhaseShiftGate(self, control, target, theta):\n",
    "        \"\"\"\n",
    "        Construct a controlled phase shift gate using specified control and target at angle theta\n",
    "        \n",
    "        ...\n",
    "        \n",
    "        Parameters\n",
    "        ----------\n",
    "        control : TYPE: Int\n",
    "            DESCRIPTION: Control qubit\n",
    "        target : TYPE: Int\n",
    "            DESCRIPTION: Target qubit\n",
    "        theta : TYPE: Float\n",
    "            DESCRIPTION: Phase  shift angle\n",
    "\n",
    "        Returns\n",
    "        -------\n",
    "        ctrl_p : TYPE: 2D Numpy Array\n",
    "            DESCRIPTION: Controlled phase shift gate\n",
    "        \"\"\"\n",
    "        # Initiate number of qubits as a variable\n",
    "        N = self.N_qubits\n",
    "        # Imaginary number\n",
    "        i = 0 + 1j\n",
    "        # Define coordinates and data for sparse matrix\n",
    "        coords = np.array([list(range(2**N)),\n",
    "                          list(range(2**N))])\n",
    "        data = np.array([1] * 2**N, dtype=complex)\n",
    "        # Number of basis states\n",
    "        n_basis_states = 2**N\n",
    "        # Calculate the interval at which the control and target are 1 in the list of basis_states\n",
    "        period_c = int(n_basis_states/2**control)\n",
    "        period_t = int(n_basis_states/2**target)\n",
    "        # Iterate through each base state where the control and targets are 1\n",
    "        # Skip over basis states where either the control or target are 0\n",
    "        for x in range(period_c+period_t, n_basis_states, period_t*2):\n",
    "            for y in range(x, x+period_t):\n",
    "                # Set value in data array to phase shift\n",
    "                data[y] = np.exp(i * theta)\n",
    "        # Create gate as a sparse matrix and return\n",
    "        ctrl_p = sparse.COO(coords, data, shape=(2**N, 2**N))\n",
    "        return ctrl_p\n",
    "    \n",
    "    def applyCtrlPhaseShiftGate(self, control, target, theta):\n",
    "        \"\"\"\n",
    "        Apply a controlled phase shift gate using specified control and target at angle theta\n",
    "        \n",
    "        ...\n",
    "        \n",
    "        Parameters\n",
    "        ----------\n",
    "        control : TYPE: Int\n",
    "            DESCRIPTION: Control qubit\n",
    "        target : TYPE: Int\n",
    "            DESCRIPTION: Target qubit\n",
    "        theta : TYPE: Float\n",
    "            DESCRIPTION: Phase  shift angle\n",
    "\n",
    "        Returns\n",
    "        -------\n",
    "        self : TYPE: Object\n",
    "            DESCRIPTION: Instance of QuantumCircuit class\n",
    "        \"\"\"\n",
    "        # Construct controlled phase shift matrix\n",
    "        ctrl_p = self.ctrlPhaseShiftGate(control, target, theta)\n",
    "        # Calculate tensor product of the ctrl_p gate and psi\n",
    "        self.psi = np.tensordot(ctrl_p, self.psi, axes=1)\n",
    "        # Return instance\n",
    "        return self\n",
    "    \n",
    "    def oracle(self, question):\n",
    "        \"\"\"\n",
    "        Construct an oracle matrix for a specified question\n",
    "        \n",
    "        ...\n",
    "        \n",
    "        Parameters\n",
    "        ----------\n",
    "        question : TYPE: List\n",
    "            DESCRIPTION: Oracle question\n",
    "        Returns\n",
    "        -------\n",
    "        TYPE - 2D Array\n",
    "            DESCRIPTION - Oracle matrix\n",
    "        \"\"\"\n",
    "        # Get all possible qubit base states\n",
    "        basis_states = self.basis_states\n",
    "        # Get the index of the qubit state in the list of base states\n",
    "        i = basis_states.index(tuple(question))\n",
    "        # Define coordinates and data for sparse matrix\n",
    "        coords = np.array([list(range(2**self.N_qubits)),\n",
    "                          list(range(2**self.N_qubits))])\n",
    "        data = np.array([1] * 2**self.N_qubits, dtype=complex)\n",
    "        # Flip data value at index i\n",
    "        data[i] = -1 + 0j\n",
    "        # Create Oracle as sparse matrix\n",
    "        O = sparse.COO(coords, data, shape=(2**self.N_qubits, 2**self.N_qubits))\n",
    "        # Return Oracle\n",
    "        return O\n",
    "    \n",
    "    def applyOracle(self, question):\n",
    "        \"\"\"\n",
    "        Apply an oracle matrix for a specified question\n",
    "        \n",
    "        ...\n",
    "        \n",
    "        Parameters\n",
    "        ----------\n",
    "        question : TYPE: List\n",
    "            DESCRIPTION: Oracle question\n",
    "        Returns\n",
    "        -------\n",
    "        TYPE - Object\n",
    "            DESCRIPTION - Instance of QuantumCircuit class\n",
    "        \"\"\"\n",
    "        # Construct oracle matrix\n",
    "        O = self.oracle(question)\n",
    "        # Calculate tensor product of the oracle and psi\n",
    "        self.psi = np.tensordot(O, self.psi, axes=1)\n",
    "        # Return a new instance\n",
    "        return self\n",
    "    \n",
    "    def JOperator(self):\n",
    "        \"\"\"\n",
    "        Construct J operator matrix\n",
    "        \n",
    "        ...\n",
    "        \n",
    "        Returns\n",
    "        -------\n",
    "        TYPE - 2D Array\n",
    "            DESCRIPTION - J operator matrix\n",
    "        \"\"\"\n",
    "        # Define coordinates and data for sparse matrix\n",
    "        coords = np.array([list(range(2**self.N_qubits)),\n",
    "                          list(range(2**self.N_qubits))])\n",
    "        data = np.array([1] * 2**self.N_qubits, dtype=complex)\n",
    "        # Flip data value at index i\n",
    "        data[0] = -1 + 0j\n",
    "        # Create sparse matrix\n",
    "        J = sparse.COO(coords, data, shape=(2**self.N_qubits, 2**self.N_qubits))\n",
    "        # Return J operator as a sparse matrix\n",
    "        return J\n",
    "    \n",
    "    def applyJOperator(self):\n",
    "        \"\"\"\n",
    "        Apply J operator matrix\n",
    "        \n",
    "        ...\n",
    "        \n",
    "        Returns\n",
    "        -------\n",
    "        TYPE - Object\n",
    "            DESCRIPTION - Instance of QuantumCircuit class\n",
    "        \"\"\"\n",
    "        # Construct J matrix\n",
    "        J = self.JOperator()\n",
    "        # Calculate tensor product of the J operator and psi\n",
    "        self.psi = np.tensordot(J, self.psi, axes=1)\n",
    "        # Return instance\n",
    "        return self\n",
    "    \n",
    "    ############################## Grover's Algorithm ##############################\n",
    "    \n",
    "    def groversAlgo(self, question):\n",
    "        \"\"\"\n",
    "        Construct the circuit for Grover's algorithm based on a specific question\n",
    "        \n",
    "        ...\n",
    "        \n",
    "        Parameters\n",
    "        ----------\n",
    "        question : TYPE: List\n",
    "            DESCRIPTION: Oracle question\n",
    "        Returns\n",
    "        -------\n",
    "        TYPE - Object\n",
    "            DESCRIPTION - Instance of QuantumCircuit class\n",
    "        \"\"\"\n",
    "        # If the instance num of qubits doesn't match the question num of qubits\n",
    "        if not len(self.qubits) == len(question):\n",
    "            # Create a new circuit instance of equal qubits\n",
    "            qubits = len(question)\n",
    "            self = QuantumCircuit(qubits=qubits, psi=self.psi)\n",
    "        # Number of qubits\n",
    "        N = self.N_qubits\n",
    "        # Calculate the number of iterations to run the algorithm\n",
    "        iterations = int(np.ceil(np.pi/4 * np.sqrt(2**N)))\n",
    "        # Create a list of the gates\n",
    "        num_gates = range(1, N+1)\n",
    "        # Grover Algorithm Circuit:\n",
    "        # Apply Hadamard gate to each qubit\n",
    "        self.applyHadamardGate(num_gates)\n",
    "        # Iterate calculated number of times\n",
    "        for i in range(iterations):\n",
    "            # Apply oracle->hadamard gates->J operator->hadamard gates\n",
    "            self.applyOracle(question)\\\n",
    "                .applyHadamardGate(num_gates)\\\n",
    "                .applyJOperator()\\\n",
    "                .applyHadamardGate(num_gates)\n",
    "        # Return measurement\n",
    "        return self\n",
    "    \n",
    "    def applyGroversAlgo(self, question, iterations = 10000):\n",
    "        \"\"\"\n",
    "        Apply Grover's algorithm using specified question and take measurements\n",
    "        \n",
    "        ...\n",
    "        \n",
    "        Parameters\n",
    "        ----------\n",
    "        question : TYPE: List\n",
    "            DESCRIPTION: Oracle question\n",
    "        iterations : TYPE: Int\n",
    "            DESCRIPTION: Number of times to run Grovers algorithm\n",
    "        Returns\n",
    "        -------\n",
    "        grover_outcomes : TYPE: Dictionary\n",
    "            DESCRIPTION: Number of occurances of each outcome\n",
    "        \"\"\"\n",
    "        # Apply Grovers algo and take measurement\n",
    "        grover_outcomes = self.groversAlgo(question).takeMeasurements(iterations)\n",
    "        # Return results\n",
    "        return grover_outcomes\n",
    "    \n",
    "    ############################## Shor's Algorithm ##############################\n",
    "    \n",
    "    def checkPowers(self, C):\n",
    "        \"\"\"\n",
    "        Check if C is a power of a smaller integer\n",
    "        \n",
    "        ...\n",
    "        \n",
    "        Parameters\n",
    "        ----------\n",
    "        C : TYPE: Integer\n",
    "            DESCRIPTION: Composite number\n",
    "        Returns\n",
    "        -------\n",
    "        TYPE: List\n",
    "            DESCRIPTION: Factors if found, else an empty list\n",
    "        \"\"\"\n",
    "        # Iterate from 2 to C\n",
    "        for i in range(2, C):\n",
    "            # If i squared is greater than C, return an empty list\n",
    "            if i**2 > C:\n",
    "                return []\n",
    "            # Initialise num value to equal i\n",
    "            num = i\n",
    "            # While the num value is less than C\n",
    "            while num <= C:\n",
    "                # Increment by multiples of i\n",
    "                num *= i\n",
    "                # If num value equals C, factors i and C/i have been found\n",
    "                if num == C:\n",
    "                    # Return factors\n",
    "                    return [i, C/i]\n",
    "    \n",
    "    def aModCGate(self, control, a_n):\n",
    "        \"\"\"\n",
    "        Create controlled gate that multiplies the target qubits by a^n(mod C)\n",
    "        \n",
    "        ...\n",
    "        \n",
    "        Parameters\n",
    "        ----------\n",
    "        control : TYPE: Int\n",
    "            DESCRIPTION: Control qubit\n",
    "        a_n : TYPE: Float\n",
    "            DESCRIPTION: a to the power of n\n",
    "\n",
    "        Returns\n",
    "        -------\n",
    "        a_mod_C_Gate : TYPE: 2D Numpy Array\n",
    "            DESCRIPTION: Control Gate\n",
    "        \"\"\"\n",
    "        # Assign instance variables to local variables\n",
    "        L = self.L\n",
    "        C = self.C\n",
    "        M = self.M\n",
    "        # Initiate number of qubits as a variable\n",
    "        N = L + M\n",
    "        # Define coordinates and data for sparse matrix\n",
    "        coords = np.array([list(range(2**N)),\n",
    "                          list(range(2**N))])\n",
    "        data = np.array([1] * 2**N, dtype=complex)\n",
    "        # Get all possible base states\n",
    "        basis_states = self.basis_states\n",
    "        # Number of basis states\n",
    "        n_basis_states = 2**N\n",
    "        # Calculate the interval at which the control is 1 in the list of basis_states\n",
    "        period = int(n_basis_states/2**control)\n",
    "        # Iterate through each base state where the control is 1\n",
    "        # Skip over basis states where the control is 0\n",
    "        for i in range(period, n_basis_states, period*2):\n",
    "            for j in range(i, i+period, 1):\n",
    "                # Store current base state in a variable\n",
    "                state = list(basis_states[j])\n",
    "                # Set x and f register qubit values\n",
    "                x_reg = state[:L]\n",
    "                f_reg = state[L:]\n",
    "                # Convert the f register qubits to an integer\n",
    "                f = int(\"\".join(str(b) for b in f_reg), 2)\n",
    "                # If the f value is less than or equal C, leave the f register unchanged\n",
    "                if f >= C:\n",
    "                    continue\n",
    "                # If the f value is greater than C\n",
    "                else:\n",
    "                    # Multiply f by a^n(mod C)\n",
    "                    f = a_n * f % C\n",
    "                    # Convert f back to binary and update the qubits values of the f_reg\n",
    "                    f_reg = [int(b) for b in bin(f)[2:]]\n",
    "                    # Ensure the f_reg has M qubits \n",
    "                    while len(f_reg) < M:\n",
    "                        f_reg = [0] + f_reg\n",
    "                    # Store new basis state\n",
    "                    k = x_reg + f_reg\n",
    "                    # Get the index of the updated state from the list of basis_states\n",
    "                    new_index = basis_states.index(tuple(k))\n",
    "                    # Update coordinates\n",
    "                    coords[1][j] = new_index\n",
    "        # Create sparse matrix and return\n",
    "        a_mod_C_Gate = sparse.COO(coords, data, shape=(2**N, 2**N))\n",
    "        return a_mod_C_Gate\n",
    "    \n",
    "    def IQFT(self):\n",
    "        \"\"\"\n",
    "        Apply an Inverse Quantum Fourier Transform to quantum circuit\n",
    "        \n",
    "        ...\n",
    "        \n",
    "        Returns\n",
    "        -------\n",
    "        TYPE: Object\n",
    "            DESCRIPTION: Instance of self\n",
    "        \"\"\"\n",
    "        # Assign instance variables to local variables\n",
    "        L = self.L\n",
    "        # Iterate through each qubit in the x register\n",
    "        for i in range(L):\n",
    "            # Set control to be the current qubit\n",
    "            control = i+1\n",
    "            # Apply Hadamard gate to the control qubit\n",
    "            self.applyHadamardGate([control])\n",
    "            # Iterate through each target qubit\n",
    "            for target in range(control+1, L+1):\n",
    "                # Define phase shift angle\n",
    "                theta = np.pi/2**(target-control)\n",
    "                # Apply controlled phase shift gate\n",
    "                self.applyCtrlPhaseShiftGate(control, target, theta)\n",
    "        return self\n",
    "    \n",
    "    def periodFinding(self, C, L, M, a):\n",
    "        \"\"\"\n",
    "        Determine possible period values\n",
    "        \n",
    "        ...\n",
    "        \n",
    "        Parameters\n",
    "        ----------\n",
    "        C : TYPE: Int\n",
    "            DESCRIPTION: Composite integer\n",
    "        L : TYPE: Int\n",
    "            DESCRIPTION: Number of qubits in x register\n",
    "        M : TYPE: Int\n",
    "            DESCRIPTION: Number of qubits in f register\n",
    "        a : TYPE: Int\n",
    "            DESCRIPTION: Random number between 2 and C\n",
    "        Returns\n",
    "        -------\n",
    "        p : TYPE: List\n",
    "            DESCRIPTION: List of possible period values\n",
    "        \"\"\"\n",
    "        # Assign number of qubits to N\n",
    "        N = L + M\n",
    "        # Qubits to apply hadamard gate\n",
    "        num_gates = list(range(1, L+1))\n",
    "        # Create instance of self to contain L + M qubits and update instance variables\n",
    "        self = QuantumCircuit(qubits=N, C=C, a=a, L=L, M=M)\n",
    "        # Flip orientation of the last qubit\n",
    "        self.applyNotGate(N)\n",
    "        # Apply Hadamard gate to each qubit in the x-register\n",
    "        self.applyHadamardGate(num_gates)\n",
    "        # Initial power value\n",
    "        power = 1\n",
    "        # Iterate though x register in reverse\n",
    "        for i in range(L, 0, -1):\n",
    "            # Calculate a^power\n",
    "            a_n = a**power\n",
    "            # Construct a^n mod C control gate\n",
    "            control = i\n",
    "            a_mod_C_gate = self.aModCGate(control, a_n)\n",
    "            # Apply a^n mod C control gate\n",
    "            self.psi = np.tensordot(a_mod_C_gate, self.psi, axes=1)\n",
    "            # Increment power by multiple of 2\n",
    "            power *= 2\n",
    "\n",
    "        # Inverse Quantum Fourier Transform\n",
    "        self.IQFT()\n",
    "        # Take measurement\n",
    "        self.takeMeasurements(100)\n",
    "        # Get x register qubits (measured in reverse)\n",
    "        x_reg = self.qubits[:L][::-1]\n",
    "        # Convert x and f register qubits to integers\n",
    "        x = int(\"\".join(str(b) for b in x_reg), 2)\n",
    "        # Calculate x/2**L\n",
    "        x_2L = x/2**L\n",
    "        # If x/2**L is 0, recalculate\n",
    "        if x_2L == 0:\n",
    "            return self.periodFinding(C, L, M, a)\n",
    "        # Convert to fraction\n",
    "        frac_x_2L = Fraction(x_2L)\n",
    "        # Calculate convergents of continued fraction and return\n",
    "        p_list = list(contfrac.convergents(frac_x_2L))\n",
    "        return p_list\n",
    "    \n",
    "    def shorsAlgo(self, C):\n",
    "        \"\"\"\n",
    "        Implement Shor's algorithm to factorise composite integer C\n",
    "        \n",
    "        ...\n",
    "        \n",
    "        Parameters\n",
    "        ----------\n",
    "        C : TYPE: Int\n",
    "            DESCRIPTION: Composite integer\n",
    "\n",
    "        Returns\n",
    "        -------\n",
    "        TYPE: list\n",
    "            DESCRIPTION: Factors of C\n",
    "        \"\"\"\n",
    "        # Calculate L that 2^L >= C^2\n",
    "        L = int(np.ceil(np.log2(C**2)))\n",
    "        # Calculate M that 2^M >= C\n",
    "        M = int(np.ceil(np.log2(C)))\n",
    "        # If C is even, factors 2 and C/2 have been found\n",
    "        if C % 2 == 0:\n",
    "            return [2, C/2]\n",
    "        # Check if C is a power of smaller integers\n",
    "        powers = self.checkPowers(C)\n",
    "        # If C is a power of smaller integers, return factors\n",
    "        if len(powers) > 0:\n",
    "            return powers\n",
    "        # Pick random integer a where 1 < a < C\n",
    "        a = np.random.randint(2, C)\n",
    "        # Find the greatest common denominator between a and C\n",
    "        gcd = np.gcd(a, C)\n",
    "        # If gcd > 1, factors of C has been found\n",
    "        if gcd > 1:\n",
    "            # Return factors\n",
    "            return [gcd, int(C/gcd)]\n",
    "        # Find smallest int p (p>1), such that a^p == 1(mod C)\n",
    "        # Quantum section -> Period finding\n",
    "        p_list = self.periodFinding(C, L, M, a)\n",
    "        # Iterate through all period values\n",
    "        for i,p in enumerate(p_list):\n",
    "            # Convert p to type list\n",
    "            p = list(p)\n",
    "            # If p is odd, or p is even and a^p/2 == -1(mod C), skip\n",
    "            if p[1] % 2 > 0 or a**(p[1]/2) == -1 % C:\n",
    "                continue\n",
    "            # P+ = gcd(a^p/2 + 1, C)\n",
    "            # P- = gcd(a^p/2 - 1, C)\n",
    "            # P+ and P- are the sought after factors of C\n",
    "            P_plus = np.gcd(int(a**(p[1]/2) + 1), C)\n",
    "            P_minus = np.gcd(int(a**(p[1]/2) - 1), C)\n",
    "            # While the product of P+ and P- are less than or equal C\n",
    "            while P_plus * P_minus <= C:\n",
    "                # If the product of P+ and P- equal C, factors haver been found\n",
    "                if P_plus * P_minus == C:\n",
    "                    # If the factors found are not 1 and C\n",
    "                    if P_plus != 1 and P_minus != 1:\n",
    "                        # Return the found factors\n",
    "                        return [P_plus, P_minus]\n",
    "                    # Else increment p, and recalculate P+ and P-\n",
    "                    else:\n",
    "                        p[1] += p_list[i][1]\n",
    "                        P_plus = np.gcd(int(a**(p[1]/2) + 1), C)\n",
    "                        P_minus = np.gcd(int(a**(p[1]/2) - 1), C)\n",
    "                # Else increment p, and recalculate P+ and P-\n",
    "                else:\n",
    "                    p[1] += p_list[i][1]\n",
    "                    P_plus = np.gcd(int(a**(p[1]/2) + 1), C)\n",
    "                    P_minus = np.gcd(int(a**(p[1]/2) - 1), C)\n",
    "        # If no products found, retry\n",
    "        return self.shorsAlgo(C)\n",
    "    \n",
    "    ############################## Mermin's Device ##############################\n",
    "    \n",
    "    def merminsDevice(self):\n",
    "        \"\"\"\n",
    "        Simulate Mermims quantum device\n",
    "        \n",
    "        ...\n",
    "        \n",
    "        Returns\n",
    "        -------\n",
    "        TYPE: Dictionary\n",
    "            DESCRIPTION: Number of occurances of each possible combination of switches and lights \n",
    "        \"\"\"\n",
    "        # Initialise list to store the 3 possible switch values\n",
    "        switches = [1,2,3]\n",
    "        # Initialise a list of the 3 possible angles in radians\n",
    "        angles = np.deg2rad([0,120,-120])\n",
    "        # Initialise counts as an empty dictionary\n",
    "        counts = dict()\n",
    "        # Run n iterations\n",
    "        for i in range(1000):\n",
    "            # Initialise new instance of QuantumCircuit\n",
    "            self = QuantumCircuit(2)\n",
    "            # Apply Hadamard gate to qubit 1\n",
    "            # Apply CNOT gate with qubit 1 as control and qubit 2 as the target\n",
    "            self.applyHadamardGate([1]).applyCnotGate(1,2)\n",
    "            # Randomly select switches for recievers A and B\n",
    "            switch_A = rm.choice(switches)\n",
    "            switch_B = rm.choice(switches)\n",
    "            # Select corresponding angle\n",
    "            theta_A = angles[switch_A-1]\n",
    "            theta_B = angles[switch_B-1]\n",
    "            # Apply rotation gates to qubits 1 and 2\n",
    "            self.applyRotationGate([1], theta_A).applyRotationGate([2], theta_B)\n",
    "            # Take measurement\n",
    "            measurements = self.takeMeasurements(1000)\n",
    "            # Iterate through each key in the measurements dictionary\n",
    "            for key in measurements.keys():\n",
    "                # Set new_key to equal key\n",
    "                new_key = key\n",
    "                # Remove all non-numerical values\n",
    "                new_key = new_key.replace('|', '').replace('>', '')\n",
    "                # Replace 0 with R\n",
    "                new_key = new_key.replace('0', 'R')\n",
    "                # Replace 1 with G\n",
    "                new_key = new_key.replace('1', 'G')\n",
    "                # Format new_key as as string containing switch A, switch B, colour A, colour B \n",
    "                new_key = str(switch_A) + str(switch_B) + new_key\n",
    "                # If the new_key exists in the counts dict\n",
    "                if new_key in counts:\n",
    "                    # Increment the value by the value of measurements[key]\n",
    "                    counts[new_key] += measurements[key]\n",
    "                # Else if the key does not exist in the counts dict\n",
    "                else:\n",
    "                    # Initialise the new key with a value of measurements[key]\n",
    "                    counts[new_key] = measurements[key]\n",
    "        # Return the counts dictionary\n",
    "        return counts\n",
    "    "
   ]
  },
  {
   "cell_type": "markdown",
   "metadata": {},
   "source": [
    "# Quantum Circuit 1:\n",
    "|H| - Hadamard Gate<br>\n",
    "|M| - Measurement<br>\n",
    "<br>\n",
    "|0> ----------------------- |M|<br>\n",
    "|0> ----------|H|--------- |M|<br>\n",
    "|0> ----------------------- |M|<br>"
   ]
  },
  {
   "cell_type": "code",
   "execution_count": 5,
   "metadata": {},
   "outputs": [
    {
     "data": {
      "text/plain": [
       "<BarContainer object of 2 artists>"
      ]
     },
     "execution_count": 5,
     "metadata": {},
     "output_type": "execute_result"
    },
    {
     "data": {
      "image/png": "[encoded data removed]",
      "text/plain": [
       "<Figure size 432x288 with 1 Axes>"
      ]
     },
     "metadata": {
      "needs_background": "light"
     },
     "output_type": "display_data"
    }
   ],
   "source": [
    "# Create instance\n",
    "qc_1 = QuantumCircuit(3)\n",
    "# Apply Hadamard gate to qubit 2\n",
    "qc_1_counts = qc_1.applyHadamardGate([2]).takeMeasurements(10000)\n",
    "# Plot results on bar chart\n",
    "# Should expect equal outcomes of |000> and |010>\n",
    "plt.title(\"Quantum Circuit 1\")\n",
    "plt.ylabel('Probabilities')\n",
    "total = sum(qc_1_counts.values())\n",
    "values = qc_1_counts.values()\n",
    "pct_vals = [val/total for val in values]\n",
    "plt.bar(qc_1_counts.keys(), pct_vals)"
   ]
  },
  {
   "cell_type": "markdown",
   "metadata": {},
   "source": [
    "# Quantum Circuit 2:\n",
    "|H| - Hadamard Gate<br>\n",
    "|M| - Measurement<br>\n",
    "<br>\n",
    "|0> --|H|------------------ |M|<br>\n",
    "|0> ----------|H|---------- |M|<br>\n",
    "|0> ------------------|H|-- |M|<br>"
   ]
  },
  {
   "cell_type": "code",
   "execution_count": 10,
   "metadata": {},
   "outputs": [
    {
     "data": {
      "text/plain": [
       "<BarContainer object of 8 artists>"
      ]
     },
     "execution_count": 10,
     "metadata": {},
     "output_type": "execute_result"
    },
    {
     "data": {
      "image/png": "[encoded data removed]",
      "text/plain": [
       "<Figure size 432x288 with 1 Axes>"
      ]
     },
     "metadata": {
      "needs_background": "light"
     },
     "output_type": "display_data"
    }
   ],
   "source": [
    "# Create instance\n",
    "qc_2 = QuantumCircuit(3)\n",
    "# Apply Hadamard gate to qubit 1\n",
    "qc_2_counts = qc_2.applyHadamardGate([1,2,3]).takeMeasurements(10000)\n",
    "# Plot results on bar chart\n",
    "# Should expect equal outcomes of all states\n",
    "plt.title(\"Quantum Circuit 2\")\n",
    "plt.ylabel('Probabilities')\n",
    "total = sum(qc_2_counts.values())\n",
    "values = qc_2_counts.values()\n",
    "pct_vals = [val/total for val in values]\n",
    "plt.bar(qc_2_counts.keys(), pct_vals)"
   ]
  },
  {
   "cell_type": "markdown",
   "metadata": {},
   "source": [
    "# Quantum Circuit 3:\n",
    "|H| - Hadamard Gate<br>\n",
    "|M| - Measurement<br>\n",
    "<br>\n",
    "|0> ----------------------- |M|<br>\n",
    "|0> ----------------------- |M|<br>\n",
    "|0> ---|H|----------|H|--- |M|<br>"
   ]
  },
  {
   "cell_type": "code",
   "execution_count": 27,
   "metadata": {},
   "outputs": [
    {
     "data": {
      "text/plain": [
       "<BarContainer object of 1 artists>"
      ]
     },
     "execution_count": 27,
     "metadata": {},
     "output_type": "execute_result"
    },
    {
     "data": {
      "image/png": "[encoded data removed]",
      "text/plain": [
       "<Figure size 432x288 with 1 Axes>"
      ]
     },
     "metadata": {
      "needs_background": "light"
     },
     "output_type": "display_data"
    }
   ],
   "source": [
    "# Create instance\n",
    "qc_3 = QuantumCircuit(3)\n",
    "# Apply Hadamard gate to qubit 3\n",
    "qc_3_counts = qc_3.applyHadamardGate([3,3]).takeMeasurements(10000)\n",
    "# Plot results on bar chart\n",
    "# Should expect |000> each time\n",
    "plt.title(\"Quantum Circuit 3\")\n",
    "plt.ylabel('Probabilities')\n",
    "total = sum(qc_3_counts.values())\n",
    "values = qc_3_counts.values()\n",
    "pct_vals = [val/total for val in values]\n",
    "plt.bar(qc_3_counts.keys(), pct_vals)"
   ]
  },
  {
   "cell_type": "markdown",
   "metadata": {},
   "source": [
    "# Quantum Circuit 4:\n",
    "|H| - Hadamard Gate<br>\n",
    "|π| - Phase Shift Gate<br>\n",
    "|M| - Measurement<br>\n",
    "<br>\n",
    "|0> ----------------------- |M|<br>\n",
    "|0> ----------------------- |M|<br>\n",
    "|0> ---|H|---|π|---|H|--- |M|<br>"
   ]
  },
  {
   "cell_type": "code",
   "execution_count": 28,
   "metadata": {},
   "outputs": [
    {
     "data": {
      "text/plain": [
       "<BarContainer object of 1 artists>"
      ]
     },
     "execution_count": 28,
     "metadata": {},
     "output_type": "execute_result"
    },
    {
     "data": {
      "image/png": "[encoded data removed]",
      "text/plain": [
       "<Figure size 432x288 with 1 Axes>"
      ]
     },
     "metadata": {
      "needs_background": "light"
     },
     "output_type": "display_data"
    }
   ],
   "source": [
    "# Create instance\n",
    "qc_4 = QuantumCircuit(3)\n",
    "# Specify angle\n",
    "theta = np.pi\n",
    "# Apply Hadamard, phase shift, and Hadamard gates to qubit 3\n",
    "qc_4_counts = qc_4.applyHadamardGate([3])\\\n",
    "                .applyPhaseShiftGate([3], theta)\\\n",
    "                .applyHadamardGate([3])\\\n",
    "                .takeMeasurements(10000)\n",
    "\n",
    "# Plot results on bar chart\n",
    "# Should expect |001> each time\n",
    "plt.title(\"Quantum Circuit 4\")\n",
    "plt.ylabel('Probabilities')\n",
    "total = sum(qc_4_counts.values())\n",
    "values = qc_4_counts.values()\n",
    "pct_vals = [val/total for val in values]\n",
    "plt.bar(qc_4_counts.keys(), pct_vals)"
   ]
  },
  {
   "cell_type": "markdown",
   "metadata": {},
   "source": [
    "# Quantum Circuit 5:\n",
    "|H| - Hadamard Gate<br>\n",
    "| . | - Control<br>\n",
    "|U| - CNOT Gate<br>\n",
    "|M| - Measurement<br>\n",
    "<br>\n",
    "|0> --------------------------- |M|<br>\n",
    "|0> ---|H|-------| . |------- |M|<br>\n",
    "|0> --------------|U|------- |M|<br>"
   ]
  },
  {
   "cell_type": "code",
   "execution_count": 12,
   "metadata": {},
   "outputs": [
    {
     "data": {
      "text/plain": [
       "<BarContainer object of 2 artists>"
      ]
     },
     "execution_count": 12,
     "metadata": {},
     "output_type": "execute_result"
    },
    {
     "data": {
      "image/png": "[encoded data removed]",
      "text/plain": [
       "<Figure size 432x288 with 1 Axes>"
      ]
     },
     "metadata": {
      "needs_background": "light"
     },
     "output_type": "display_data"
    }
   ],
   "source": [
    "# Create instance of QuantumCircuit\n",
    "qc_5 = QuantumCircuit()\n",
    "# Apply Hadamard gate to qubit 2\n",
    "# Apply controlled NOT gate, control is qubit 2, target is qubit 3\n",
    "qc_5_counts = qc_5.applyHadamardGate([2])\\\n",
    "                    .applyCnotGate(2,3)\\\n",
    "                    .takeMeasurements(10000)\n",
    "\n",
    "# Plot results on bar chart\n",
    "# Should expect even probabilities of |000> and |011>\n",
    "plt.title(\"Quantum Circuit 5\")\n",
    "plt.ylabel('Probabilities')\n",
    "total = sum(qc_5_counts.values())\n",
    "values = qc_5_counts.values()\n",
    "pct_vals = [val/total for val in values]\n",
    "plt.bar(qc_5_counts.keys(), pct_vals)"
   ]
  },
  {
   "cell_type": "markdown",
   "metadata": {},
   "source": [
    "# Quantum Circuit 6:\n",
    "|H| - Hadamard Gate<br>\n",
    "| . | - Control<br>\n",
    "|U| - CNOT Gate<br>\n",
    "|M| - Measurement<br>\n",
    "<br>\n",
    "|0> -------------------------|U|--- |M|<br>\n",
    "|0> ---|H|-------| . |-------| . |--- |M|<br>\n",
    "|0> --------------|U|-------------- |M|<br>"
   ]
  },
  {
   "cell_type": "code",
   "execution_count": 13,
   "metadata": {},
   "outputs": [
    {
     "data": {
      "text/plain": [
       "<BarContainer object of 2 artists>"
      ]
     },
     "execution_count": 13,
     "metadata": {},
     "output_type": "execute_result"
    },
    {
     "data": {
      "image/png": "[encoded data removed]",
      "text/plain": [
       "<Figure size 432x288 with 1 Axes>"
      ]
     },
     "metadata": {
      "needs_background": "light"
     },
     "output_type": "display_data"
    }
   ],
   "source": [
    "# Create instance of QuantumCircuit\n",
    "qc_6 = QuantumCircuit()\n",
    "# Apply Hadamard gate to qubit 2\n",
    "# Apply controlled NOT gate, control is qubit 2, target is qubit 3\n",
    "# Apply controlled NOT gate, control is qubit 2, target is qubit 1\n",
    "qc_6_counts = qc_6.applyHadamardGate([2])\\\n",
    "                    .applyCnotGate(2,3)\\\n",
    "                    .applyCnotGate(2,1)\\\n",
    "                    .takeMeasurements(10000)\n",
    "\n",
    "# Plot results on bar chart\n",
    "# Should expect even probabilities of |000> and |111>\n",
    "plt.title(\"Quantum Circuit 6\")\n",
    "plt.ylabel('Probabilities')\n",
    "total = sum(qc_6_counts.values())\n",
    "values = qc_6_counts.values()\n",
    "pct_vals = [val/total for val in values]\n",
    "plt.bar(qc_6_counts.keys(), pct_vals)"
   ]
  },
  {
   "cell_type": "markdown",
   "metadata": {},
   "source": [
    "# Quantum Circuit 7:\n",
    "|H| - Hadamard Gate<br>\n",
    "|M| - Measurement<br>\n",
    "<br>\n",
    "|0> -------------------------- |M|<br>\n",
    "|0> ----|H|-------|H|-------- |M|<br>\n",
    "|0> -------------------------- |M|<br>"
   ]
  },
  {
   "cell_type": "code",
   "execution_count": 31,
   "metadata": {},
   "outputs": [
    {
     "data": {
      "text/plain": [
       "<BarContainer object of 1 artists>"
      ]
     },
     "execution_count": 31,
     "metadata": {},
     "output_type": "execute_result"
    },
    {
     "data": {
      "image/png": "[encoded data removed]",
      "text/plain": [
       "<Figure size 432x288 with 1 Axes>"
      ]
     },
     "metadata": {
      "needs_background": "light"
     },
     "output_type": "display_data"
    }
   ],
   "source": [
    "# Create instance of QuantumCircuit\n",
    "qc_7 = QuantumCircuit()\n",
    "# Apply 2 Hadamard gates to qubit 2\n",
    "qc_7_counts = qc_7.applyHadamardGate([2])\\\n",
    "                    .applyHadamardGate([2])\\\n",
    "                    .takeMeasurements(10000)\n",
    "\n",
    "\n",
    "# Plot results on bar chart\n",
    "# Should expect |000> each time\n",
    "plt.title(\"Quantum Circuit 7\")\n",
    "plt.ylabel('Probabilities')\n",
    "total = sum(qc_7_counts.values())\n",
    "values = qc_7_counts.values()\n",
    "pct_vals = [val/total for val in values]\n",
    "plt.bar(qc_7_counts.keys(), pct_vals)"
   ]
  },
  {
   "cell_type": "markdown",
   "metadata": {},
   "source": [
    "# Quantum Circuit 8:\n",
    "|H| - Hadamard Gate<br>\n",
    "| . | - Control<br>\n",
    "|U| - CNOT Gate<br>\n",
    "|M| - Measurement<br>\n",
    "<br>\n",
    "|0> ---------------------------- |M|<br>\n",
    "|0> ----|H|----| . |----|H|----- |M|<br>\n",
    "|0> ------------|U|------------- |M|<br>"
   ]
  },
  {
   "cell_type": "code",
   "execution_count": 14,
   "metadata": {},
   "outputs": [
    {
     "data": {
      "text/plain": [
       "<BarContainer object of 4 artists>"
      ]
     },
     "execution_count": 14,
     "metadata": {},
     "output_type": "execute_result"
    },
    {
     "data": {
      "image/png": "[encoded data removed]",
      "text/plain": [
       "<Figure size 432x288 with 1 Axes>"
      ]
     },
     "metadata": {
      "needs_background": "light"
     },
     "output_type": "display_data"
    }
   ],
   "source": [
    "# Create instance of QuantumCircuit\n",
    "qc_8 = QuantumCircuit()\n",
    "# Apply Hadamard gate to qubit 2\n",
    "# Apply controlled NOT gate, control is qubit 2, target is qubit 3\n",
    "# Apply Hadamard gate to qubit 2\n",
    "qc_8_counts = qc_8.applyHadamardGate([2])\\\n",
    "                    .applyCnotGate(2,3)\\\n",
    "                    .applyHadamardGate([2])\\\n",
    "                    .takeMeasurements(10000)\n",
    "\n",
    "\n",
    "# Plot results on bar chart\n",
    "# Should expect even probabilities of |000>, |001>, |010>, and |011>\n",
    "plt.title(\"Quantum Circuit 8\")\n",
    "plt.ylabel('Probabilities')\n",
    "total = sum(qc_8_counts.values())\n",
    "values = qc_8_counts.values()\n",
    "pct_vals = [val/total for val in values]\n",
    "plt.bar(qc_8_counts.keys(), pct_vals)"
   ]
  },
  {
   "cell_type": "markdown",
   "metadata": {},
   "source": [
    "# Grover's Algorithm\n",
    "|H| - Hadamard Gate<br>\n",
    "|O| - Oracle<br>\n",
    "|J| - J Operator<br>\n",
    "|H|-|J|-|H| - Grover Diffusion Operator<br>\n",
    "|M| - Measurement<br>\n",
    "<br>\n",
    "Repeat Oracle and Grover Diffusion Operator block pi/4 * sqrt(2**N) times:<br>\n",
    "<br>\n",
    "|0> -----|H|-----|O|-----|H|-|J|-|H|----- |M|<br>\n",
    "|0> -----|H|-----|O|-----|H|-|J|-|H|----- |M|<br>\n",
    "|0> -----|H|-----|O|-----|H|-|J|-|H|----- |M|<br>"
   ]
  },
  {
   "cell_type": "code",
   "execution_count": 11,
   "metadata": {},
   "outputs": [
    {
     "data": {
      "text/plain": [
       "<BarContainer object of 8 artists>"
      ]
     },
     "execution_count": 11,
     "metadata": {},
     "output_type": "execute_result"
    },
    {
     "data": {
      "image/png": "[encoded data removed]",
      "text/plain": [
       "<Figure size 432x288 with 1 Axes>"
      ]
     },
     "metadata": {
      "needs_background": "light"
     },
     "output_type": "display_data"
    }
   ],
   "source": [
    "# Create instance of QuantumCircuit\n",
    "qc_grover = QuantumCircuit()\n",
    "# Oracle question\n",
    "question = [1,0,0]\n",
    "\n",
    "# Apply Grovers algorithm \n",
    "grover_counts = qc_grover.applyGroversAlgo(question)\n",
    "\n",
    "# Plot % results on bar chart\n",
    "plt.suptitle('Grovers Algorithm')\n",
    "plt.title(f'Find: |{\"\".join([str(i) for i in question])}>')\n",
    "plt.ylabel('Probabilities')\n",
    "plt.xticks(rotation='vertical')\n",
    "total = sum(grover_counts.values())\n",
    "values = grover_counts.values()\n",
    "pct_vals = [val/total for val in values]\n",
    "plt.bar(grover_counts.keys(), pct_vals)"
   ]
  },
  {
   "cell_type": "markdown",
   "metadata": {},
   "source": [
    "# Shor's Algorithm\n",
    "|H| - Hadamard Gate<br>\n",
    "|M| - Measurement<br>\n",
    "| . | - Control<br>\n",
    "|f(x)| - a^n (mod C) gate<br>\n",
    "|π/n| - Phase shift gate<br>\n",
    "x-register = l2, l1, l0<br>\n",
    "f-register = m3, m2, m1, m0<br>\n",
    "<br>\n",
    "IQFT:\n",
    "<br>\n",
    "l2 |0> ---|H|-----| . |-------| . |------------------------------------ |M|<br>\n",
    "l1 |0> -----------|π/2|-------|---------|H|------| . |--------------- |M|<br>\n",
    "l0 |0> ----------------------|π/4|---------------|π/2|------|H|---- |M|<br>\n",
    "<br>\n",
    "Full circuit:\n",
    "<br>\n",
    "l2 |0> -|H|-------------------------| . |----------|H|----| . |------| . |---------------------------------- |M|<br>\n",
    "l1 |0> -|H|--------------| . |---------|-------------------|π/2|------|---------|H|---| . |--------------- |M|<br>\n",
    "l0 |0> -|H|-----| . |-------|----------|-----------------------------|π/4|------------|π/2|------|H|---- |M|<br>\n",
    "m3 |0> -------|f(x)|----|f(x)|----|f(x)|----------------------------------------------------------------- |M|<br>\n",
    "m2 |0> -------|f(x)|----|f(x)|----|f(x)|----------------------------------------------------------------- |M|<br>\n",
    "m1 |0> -------|f(x)|----|f(x)|----|f(x)|----------------------------------------------------------------- |M|<br>\n",
    "m0 |0> -------|f(x)|----|f(x)|----|f(x)|----------------------------------------------------------------- |M|<br>"
   ]
  },
  {
   "cell_type": "code",
   "execution_count": 19,
   "metadata": {},
   "outputs": [],
   "source": [
    "# Create an instance of QuantumCircuit\n",
    "qc_shor = QuantumCircuit()"
   ]
  },
  {
   "cell_type": "code",
   "execution_count": 20,
   "metadata": {},
   "outputs": [
    {
     "data": {
      "text/plain": [
       "'Factors of 15: [5, 3]'"
      ]
     },
     "execution_count": 20,
     "metadata": {},
     "output_type": "execute_result"
    }
   ],
   "source": [
    "# Use Shor's algorithm to calculate factors of 15\n",
    "C = 15\n",
    "'Factors of ' + str(C) + ': ' + str(qc_shor.shorsAlgo(C))"
   ]
  },
  {
   "cell_type": "code",
   "execution_count": 21,
   "metadata": {},
   "outputs": [
    {
     "data": {
      "text/plain": [
       "'Factors of 21: [3, 7]'"
      ]
     },
     "execution_count": 21,
     "metadata": {},
     "output_type": "execute_result"
    }
   ],
   "source": [
    "# Use Shor's algorithm to calculate factors of 21\n",
    "C = 21\n",
    "'Factors of ' + str(C) + ': ' + str(qc_shor.shorsAlgo(C))"
   ]
  },
  {
   "cell_type": "code",
   "execution_count": 24,
   "metadata": {},
   "outputs": [
    {
     "data": {
      "text/plain": [
       "'Factors of 33: [3, 11]'"
      ]
     },
     "execution_count": 24,
     "metadata": {},
     "output_type": "execute_result"
    }
   ],
   "source": [
    "# Use Shor's algorithm to calculate factors of 33\n",
    "C = 33\n",
    "'Factors of ' + str(C) + ': ' + str(qc_shor.shorsAlgo(C))"
   ]
  },
  {
   "cell_type": "code",
   "execution_count": 29,
   "metadata": {},
   "outputs": [
    {
     "data": {
      "text/plain": [
       "'Factors of 35: [5, 7]'"
      ]
     },
     "execution_count": 29,
     "metadata": {},
     "output_type": "execute_result"
    }
   ],
   "source": [
    "# Use Shor's algorithm to calculate factors of 35\n",
    "C = 35\n",
    "'Factors of ' + str(C) + ': ' + str(qc_shor.shorsAlgo(C))"
   ]
  },
  {
   "cell_type": "code",
   "execution_count": 30,
   "metadata": {},
   "outputs": [
    {
     "data": {
      "text/plain": [
       "'Factors of 39: [3, 13]'"
      ]
     },
     "execution_count": 30,
     "metadata": {},
     "output_type": "execute_result"
    }
   ],
   "source": [
    "# Use Shor's algorithm to calculate factors of 39\n",
    "C = 39\n",
    "'Factors of ' + str(C) + ': ' + str(qc_shor.shorsAlgo(C))"
   ]
  },
  {
   "cell_type": "code",
   "execution_count": 31,
   "metadata": {},
   "outputs": [
    {
     "data": {
      "text/plain": [
       "'Factors of 45: [9, 5]'"
      ]
     },
     "execution_count": 31,
     "metadata": {},
     "output_type": "execute_result"
    }
   ],
   "source": [
    "# Use Shor's algorithm to calculate factors of 45\n",
    "C = 45\n",
    "'Factors of ' + str(C) + ': ' + str(qc_shor.shorsAlgo(C))"
   ]
  },
  {
   "cell_type": "markdown",
   "metadata": {},
   "source": [
    "# Mermin's Quantum Device\n",
    "|H| - Hadamard Gate<br>\n",
    "| . | - Control<br>\n",
    "|U| - CNOT Gate<br>\n",
    "|R| - Rotation Gate<br>\n",
    "|M| - Measurement<br>\n",
    "<br>\n",
    "|0> ---|H|---| . |------|R_A|---- |M|<br>\n",
    "|0> ----------|U|------|R_B|---- |M|<br>"
   ]
  },
  {
   "cell_type": "code",
   "execution_count": 16,
   "metadata": {},
   "outputs": [],
   "source": [
    "# Create instance of QuantumCircuit\n",
    "qc_mermin = QuantumCircuit(2)\n",
    "# Calculate results\n",
    "results = qc_mermin.merminsDevice()"
   ]
  },
  {
   "cell_type": "code",
   "execution_count": 17,
   "metadata": {},
   "outputs": [],
   "source": [
    "# Initialise dictionaries to store outcome counts\n",
    "one_1_counts = dict()\n",
    "one_2_counts = dict()\n",
    "one_3_counts = dict()\n",
    "two_1_counts = dict()\n",
    "two_2_counts = dict()\n",
    "two_3_counts = dict()\n",
    "three_1_counts = dict()\n",
    "three_2_counts = dict()\n",
    "three_3_counts = dict()\n",
    "\n",
    "# Initialise list of dictionaries\n",
    "dict_list = [one_1_counts, one_2_counts, one_3_counts,\n",
    "             two_1_counts, two_2_counts, two_3_counts,\n",
    "             three_1_counts, three_2_counts, three_3_counts]\n",
    "\n",
    "# Initialise list to store all possible combinations of switches\n",
    "switch_combos = ['11','12','13','21','22','23','31','32','33']\n",
    "\n",
    "# Iterate though each key in the results dictionary\n",
    "for result in results.keys():\n",
    "    # Get the switch values from the key\n",
    "    switches = result[:2]\n",
    "    # Get the index of the switch value from the switch_combos list\n",
    "    idx = switch_combos.index(switches)\n",
    "    # Select dictionary from dict_list and store in variable dictionary\n",
    "    dictionary = dict_list[idx]\n",
    "    # If the result key exists in the dictionary\n",
    "    if result in dictionary:\n",
    "        # Increment the value by the value of results[result]\n",
    "        dictionary[result] += results[result]\n",
    "    # Else if the key does not exist in the dictionary\n",
    "    else:\n",
    "        # Initialise the result key with a value of results[result]\n",
    "        dictionary[result] = results[result]\n"
   ]
  },
  {
   "cell_type": "code",
   "execution_count": 18,
   "metadata": {},
   "outputs": [
    {
     "data": {
      "text/plain": [
       "<BarContainer object of 30 artists>"
      ]
     },
     "execution_count": 18,
     "metadata": {},
     "output_type": "execute_result"
    },
    {
     "data": {
      "image/png": "[encoded data removed]",
      "text/plain": [
       "<Figure size 432x288 with 1 Axes>"
      ]
     },
     "metadata": {
      "needs_background": "light"
     },
     "output_type": "display_data"
    }
   ],
   "source": [
    "# Plot all results on bar chart\n",
    "plt.suptitle(\"Mermin's Quantum Device\")\n",
    "plt.title('All Outcomes')\n",
    "plt.ylabel('Probabilities')\n",
    "plt.xticks(rotation='vertical')\n",
    "total = sum(results.values())\n",
    "values = results.values()\n",
    "pct_vals = [val/total for val in values]\n",
    "\n",
    "# Order dictionary from highest to lowest values and plot\n",
    "for i, key in enumerate(results.keys()):\n",
    "    results[key] == pct_vals[i]\n",
    "sorted_res = reversed(sorted(results.items(), key=lambda kv: kv[1]))\n",
    "results = OrderedDict(sorted_res)\n",
    "plt.bar(results.keys(), results.values())"
   ]
  },
  {
   "cell_type": "code",
   "execution_count": 20,
   "metadata": {},
   "outputs": [
    {
     "data": {
      "text/plain": [
       "<BarContainer object of 2 artists>"
      ]
     },
     "execution_count": 20,
     "metadata": {},
     "output_type": "execute_result"
    },
    {
     "data": {
      "image/png": "[encoded data removed]",
      "text/plain": [
       "<Figure size 432x288 with 1 Axes>"
      ]
     },
     "metadata": {
      "needs_background": "light"
     },
     "output_type": "display_data"
    }
   ],
   "source": [
    "# Plot occurances switches '11' results on bar chart\n",
    "plt.suptitle(\"Mermin's Quantum Device\")\n",
    "plt.title('Switches 11')\n",
    "plt.ylabel('Probabilities')\n",
    "total = sum(one_1_counts.values())\n",
    "values = one_1_counts.values()\n",
    "pct_vals = [val/total for val in values]\n",
    "plt.bar(one_1_counts.keys(), pct_vals)"
   ]
  },
  {
   "cell_type": "code",
   "execution_count": 21,
   "metadata": {},
   "outputs": [
    {
     "data": {
      "text/plain": [
       "<BarContainer object of 4 artists>"
      ]
     },
     "execution_count": 21,
     "metadata": {},
     "output_type": "execute_result"
    },
    {
     "data": {
      "image/png": "[encoded data removed]",
      "text/plain": [
       "<Figure size 432x288 with 1 Axes>"
      ]
     },
     "metadata": {
      "needs_background": "light"
     },
     "output_type": "display_data"
    }
   ],
   "source": [
    "# Plot occurances switches '12' results on bar chart\n",
    "plt.suptitle(\"Mermin's Quantum Device\")\n",
    "plt.title('Switches 12')\n",
    "plt.ylabel('Probabilities')\n",
    "total = sum(one_2_counts.values())\n",
    "values = one_2_counts.values()\n",
    "pct_vals = [val/total for val in values]\n",
    "\n",
    "# Order dictionary from highest to lowest values and plot\n",
    "for i, key in enumerate(one_2_counts.keys()):\n",
    "    one_2_counts[key] == pct_vals[i]\n",
    "sorted_res = reversed(sorted(one_2_counts.items(), key=lambda kv: kv[1]))\n",
    "one_2_counts = OrderedDict(sorted_res)\n",
    "plt.bar(one_2_counts.keys(), one_2_counts.values())"
   ]
  },
  {
   "cell_type": "code",
   "execution_count": 22,
   "metadata": {},
   "outputs": [
    {
     "data": {
      "text/plain": [
       "<BarContainer object of 4 artists>"
      ]
     },
     "execution_count": 22,
     "metadata": {},
     "output_type": "execute_result"
    },
    {
     "data": {
      "image/png": "[encoded data removed]",
      "text/plain": [
       "<Figure size 432x288 with 1 Axes>"
      ]
     },
     "metadata": {
      "needs_background": "light"
     },
     "output_type": "display_data"
    }
   ],
   "source": [
    "# Plot occurances switches '13' results on bar chart\n",
    "plt.suptitle(\"Mermin's Quantum Device\")\n",
    "plt.title('Switches 13')\n",
    "plt.ylabel('Probabilities')\n",
    "total = sum(one_3_counts.values())\n",
    "values = one_3_counts.values()\n",
    "pct_vals = [val/total for val in values]\n",
    "\n",
    "# Order dictionary from highest to lowest values and plot\n",
    "for i, key in enumerate(one_3_counts.keys()):\n",
    "    one_3_counts[key] == pct_vals[i]\n",
    "sorted_res = reversed(sorted(one_3_counts.items(), key=lambda kv: kv[1]))\n",
    "one_3_counts = OrderedDict(sorted_res)\n",
    "plt.bar(one_3_counts.keys(), one_3_counts.values())"
   ]
  },
  {
   "cell_type": "code",
   "execution_count": 24,
   "metadata": {},
   "outputs": [
    {
     "data": {
      "text/plain": [
       "<BarContainer object of 4 artists>"
      ]
     },
     "execution_count": 24,
     "metadata": {},
     "output_type": "execute_result"
    },
    {
     "data": {
      "image/png": "[encoded data removed]",
      "text/plain": [
       "<Figure size 432x288 with 1 Axes>"
      ]
     },
     "metadata": {
      "needs_background": "light"
     },
     "output_type": "display_data"
    }
   ],
   "source": [
    "# Plot occurances switches '21' results on bar chart\n",
    "plt.suptitle(\"Mermin's Quantum Device\")\n",
    "plt.title('Switches 21')\n",
    "plt.ylabel('Probabilities')\n",
    "total = sum(two_1_counts.values())\n",
    "values = two_1_counts.values()\n",
    "pct_vals = [val/total for val in values]\n",
    "\n",
    "# Order dictionary from highest to lowest values and plot\n",
    "for i, key in enumerate(two_1_counts.keys()):\n",
    "    two_1_counts[key] == pct_vals[i]\n",
    "sorted_res = reversed(sorted(two_1_counts.items(), key=lambda kv: kv[1]))\n",
    "two_1_counts = OrderedDict(sorted_res)\n",
    "plt.bar(two_1_counts.keys(), two_1_counts.values())"
   ]
  },
  {
   "cell_type": "code",
   "execution_count": 20,
   "metadata": {},
   "outputs": [
    {
     "data": {
      "text/plain": [
       "<BarContainer object of 2 artists>"
      ]
     },
     "execution_count": 20,
     "metadata": {},
     "output_type": "execute_result"
    },
    {
     "data": {
      "image/png": "[encoded data removed]",
      "text/plain": [
       "<Figure size 432x288 with 1 Axes>"
      ]
     },
     "metadata": {
      "needs_background": "light"
     },
     "output_type": "display_data"
    }
   ],
   "source": [
    "# Plot occurances switches '22' results on bar chart\n",
    "plt.suptitle(\"Mermin's Quantum Device\")\n",
    "plt.title('Switches 22')\n",
    "plt.ylabel('Probabilities')\n",
    "total = sum(two_2_counts.values())\n",
    "values = two_2_counts.values()\n",
    "pct_vals = [val/total for val in values]\n",
    "plt.bar(two_2_counts.keys(), pct_vals)"
   ]
  },
  {
   "cell_type": "code",
   "execution_count": 25,
   "metadata": {},
   "outputs": [
    {
     "data": {
      "text/plain": [
       "<BarContainer object of 4 artists>"
      ]
     },
     "execution_count": 25,
     "metadata": {},
     "output_type": "execute_result"
    },
    {
     "data": {
      "image/png": "[encoded data removed]",
      "text/plain": [
       "<Figure size 432x288 with 1 Axes>"
      ]
     },
     "metadata": {
      "needs_background": "light"
     },
     "output_type": "display_data"
    }
   ],
   "source": [
    "# Plot occurances switches '23' results on bar chart\n",
    "plt.suptitle(\"Mermin's Quantum Device\")\n",
    "plt.title('Switches 23')\n",
    "plt.ylabel('Probabilities')\n",
    "total = sum(two_3_counts.values())\n",
    "values = two_3_counts.values()\n",
    "pct_vals = [val/total for val in values]\n",
    "\n",
    "# Order dictionary from highest to lowest values and plot\n",
    "for i, key in enumerate(two_3_counts.keys()):\n",
    "    two_3_counts[key] == pct_vals[i]\n",
    "sorted_res = reversed(sorted(two_3_counts.items(), key=lambda kv: kv[1]))\n",
    "two_3_counts = OrderedDict(sorted_res)\n",
    "plt.bar(two_3_counts.keys(), two_3_counts.values())"
   ]
  },
  {
   "cell_type": "code",
   "execution_count": 26,
   "metadata": {},
   "outputs": [
    {
     "data": {
      "text/plain": [
       "<BarContainer object of 4 artists>"
      ]
     },
     "execution_count": 26,
     "metadata": {},
     "output_type": "execute_result"
    },
    {
     "data": {
      "image/png": "[encoded data removed]",
      "text/plain": [
       "<Figure size 432x288 with 1 Axes>"
      ]
     },
     "metadata": {
      "needs_background": "light"
     },
     "output_type": "display_data"
    }
   ],
   "source": [
    "# Plot occurances switches '31' results on bar chart\n",
    "plt.suptitle(\"Mermin's Quantum Device\")\n",
    "plt.title('Switches 31')\n",
    "plt.ylabel('Probabilities')\n",
    "total = sum(three_1_counts.values())\n",
    "values = three_1_counts.values()\n",
    "pct_vals = [val/total for val in values]\n",
    "\n",
    "# Order dictionary from highest to lowest values and plot\n",
    "for i, key in enumerate(three_1_counts.keys()):\n",
    "    three_1_counts[key] == pct_vals[i]\n",
    "sorted_res = reversed(sorted(three_1_counts.items(), key=lambda kv: kv[1]))\n",
    "three_1_counts = OrderedDict(sorted_res)\n",
    "plt.bar(three_1_counts.keys(), three_1_counts.values())"
   ]
  },
  {
   "cell_type": "code",
   "execution_count": 27,
   "metadata": {},
   "outputs": [
    {
     "data": {
      "text/plain": [
       "<BarContainer object of 4 artists>"
      ]
     },
     "execution_count": 27,
     "metadata": {},
     "output_type": "execute_result"
    },
    {
     "data": {
      "image/png": "[encoded data removed]",
      "text/plain": [
       "<Figure size 432x288 with 1 Axes>"
      ]
     },
     "metadata": {
      "needs_background": "light"
     },
     "output_type": "display_data"
    }
   ],
   "source": [
    "# Plot occurances switches '32' results on bar chart\n",
    "plt.suptitle(\"Mermin's Quantum Device\")\n",
    "plt.title('Switches 32')\n",
    "plt.ylabel('Probabilities')\n",
    "total = sum(three_2_counts.values())\n",
    "values = three_2_counts.values()\n",
    "pct_vals = [val/total for val in values]\n",
    "\n",
    "# Order dictionary from highest to lowest values and plot\n",
    "for i, key in enumerate(three_2_counts.keys()):\n",
    "    three_2_counts[key] == pct_vals[i]\n",
    "sorted_res = reversed(sorted(three_2_counts.items(), key=lambda kv: kv[1]))\n",
    "three_2_counts = OrderedDict(sorted_res)\n",
    "plt.bar(three_2_counts.keys(), three_2_counts.values())"
   ]
  },
  {
   "cell_type": "code",
   "execution_count": 24,
   "metadata": {},
   "outputs": [
    {
     "data": {
      "text/plain": [
       "<BarContainer object of 2 artists>"
      ]
     },
     "execution_count": 24,
     "metadata": {},
     "output_type": "execute_result"
    },
    {
     "data": {
      "image/png": "[encoded data removed]",
      "text/plain": [
       "<Figure size 432x288 with 1 Axes>"
      ]
     },
     "metadata": {
      "needs_background": "light"
     },
     "output_type": "display_data"
    }
   ],
   "source": [
    "# Plot occurances switches '33' results on bar chart\n",
    "plt.suptitle(\"Mermin's Quantum Device\")\n",
    "plt.title('Switches 33')\n",
    "plt.ylabel('Probabilities')\n",
    "total = sum(three_3_counts.values())\n",
    "values = three_3_counts.values()\n",
    "pct_vals = [val/total for val in values]\n",
    "plt.bar(three_3_counts.keys(), pct_vals)"
   ]
  }
 ],
 "metadata": {
  "kernelspec": {
   "display_name": "Python 3 (ipykernel)",
   "language": "python",
   "name": "python3"
  },
  "language_info": {
   "codemirror_mode": {
    "name": "ipython",
    "version": 3
   },
   "file_extension": ".py",
   "mimetype": "text/x-python",
   "name": "python",
   "nbconvert_exporter": "python",
   "pygments_lexer": "ipython3",
   "version": "3.9.7"
  }
 },
 "nbformat": 4,
 "nbformat_minor": 4
}
